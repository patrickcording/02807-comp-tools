{
 "cells": [
  {
   "cell_type": "markdown",
   "metadata": {},
   "source": [
    "# Project 1: Customer Database\n",
    "**This is the first of three mandatory projects to be handed in as part of the assessment for the course 02807 Computational Tools for Data Science at Technical University of Denmark, autumn 2019.**\n",
    "\n",
    "#### Practical info\n",
    "- **The project is to be done in groups of at most 3 students**\n",
    "- **Each group has to hand in _one_ Jupyter notebook (this notebook) with their solution**\n",
    "- **The hand-in of the notebook is due 2019-10-13, 23:59 on DTU Inside**\n",
    "\n",
    "#### Your solution\n",
    "- **Your solution should be in Python**\n",
    "- **For each question you may use as many cells for your solution as you like**\n",
    "- **You should document your solution and explain the choices you've made (for example by using multiple cells and use Markdown to assist the reader of the notebook)**\n",
    "- **You should not remove the problem statements, and you should not modify the structure of the notebook**\n",
    "- **Your notebook should be runnable, i.e., clicking [>>] in Jupyter should generate the result that you want to be assessed**\n",
    "- **You are not expected to use machine learning to solve any of the exercises**\n",
    "- **You will be assessed according to correctness and readability of your code, choice of solution, choice of tools and libraries, and documentation of your solution**"
   ]
  },
  {
   "cell_type": "markdown",
   "metadata": {},
   "source": [
    "## Introduction\n",
    "Your team has been hired by the company X as data scientists. X makes gadgets for a wide range of industrial and commercial clients.\n",
    "\n",
    "As in-house data scientists, your teams first task, as per request from your new boss, is to optimize business operations. You have decided that a good first step would be to analyze the companys historical sales data to gain a better understanding of where profit is coming from. It may also reveal some low hanging fruit in terms of business opportunities.\n",
    "\n",
    "To get started, you have called the IT department to get access to the customer and sales transactions database. To your horror you've been told that such a database doens't exist, and the only record of sales transactions is kept by John from finance in an Excel spreadsheet. So you've emailed John asking for a CSV dump of the spreadsheet...\n",
    "\n",
    "In this project you need to clean the data you got from John, enrich it with further data, prepare a database for the data, and do some data analysis. The project is comprised of five parts. They are intended to be solved in the order they appear, but it is highly recommended that you read through all of them and devise an overall strategy before you start implementing anything."
   ]
  },
  {
   "cell_type": "markdown",
   "metadata": {},
   "source": [
    "## Part 1: Cleaning the data\n",
    "John has emailed you the following link to the CSV dump you requested.\n",
    "\n",
    "- [transactions.csv](https://raw.githubusercontent.com/patrickcording/02807-comp-tools/master/docker/work/data/transactions.csv)\n",
    "\n",
    "It seems as though he has been a bit sloppy when keeping the records. \n",
    "\n",
    "In this part you should:\n",
    "- Explain what the data is\n",
    "- Clean it to prepare it for inserting into a database and doing data analysis "
   ]
  },
  {
   "cell_type": "markdown",
   "metadata": {},
   "source": [
    "---\n",
    "### Solution"
   ]
  },
  {
   "cell_type": "markdown",
   "metadata": {},
   "source": [
    "Reading the data from source into a pandas dataframe"
   ]
  },
  {
   "cell_type": "code",
   "execution_count": 1,
   "metadata": {},
   "outputs": [],
   "source": [
    "import pandas as pd\n",
    "import numpy as np\n",
    "\n",
    "url = \"https://raw.githubusercontent.com/patrickcording/02807-comp-tools/master/docker/work/data/transactions.csv\"\n",
    "\n",
    "transactions_df = pd.read_csv(url)"
   ]
  },
  {
   "cell_type": "markdown",
   "metadata": {},
   "source": [
    "Firstly, we have to get a concise summary of the information of the dataframe."
   ]
  },
  {
   "cell_type": "code",
   "execution_count": 2,
   "metadata": {
    "scrolled": false
   },
   "outputs": [
    {
     "name": "stdout",
     "output_type": "stream",
     "text": [
      "<class 'pandas.core.frame.DataFrame'>\n",
      "RangeIndex: 20568 entries, 0 to 20567\n",
      "Data columns (total 6 columns):\n",
      "part       20558 non-null object\n",
      "company    20568 non-null object\n",
      "country    18397 non-null object\n",
      "city       20535 non-null object\n",
      "price      20567 non-null object\n",
      "date       20568 non-null object\n",
      "dtypes: object(6)\n",
      "memory usage: 964.2+ KB\n"
     ]
    }
   ],
   "source": [
    "transactions_df.info()"
   ]
  },
  {
   "cell_type": "markdown",
   "metadata": {},
   "source": [
    "We can see that we have many missing information and the type of the data for each attribute is of the type 'object'. Let's print the first items of the dataset to have a better look:"
   ]
  },
  {
   "cell_type": "code",
   "execution_count": 3,
   "metadata": {
    "scrolled": false
   },
   "outputs": [
    {
     "data": {
      "text/html": [
       "<div>\n",
       "<style scoped>\n",
       "    .dataframe tbody tr th:only-of-type {\n",
       "        vertical-align: middle;\n",
       "    }\n",
       "\n",
       "    .dataframe tbody tr th {\n",
       "        vertical-align: top;\n",
       "    }\n",
       "\n",
       "    .dataframe thead th {\n",
       "        text-align: right;\n",
       "    }\n",
       "</style>\n",
       "<table border=\"1\" class=\"dataframe\">\n",
       "  <thead>\n",
       "    <tr style=\"text-align: right;\">\n",
       "      <th></th>\n",
       "      <th>part</th>\n",
       "      <th>company</th>\n",
       "      <th>country</th>\n",
       "      <th>city</th>\n",
       "      <th>price</th>\n",
       "      <th>date</th>\n",
       "    </tr>\n",
       "  </thead>\n",
       "  <tbody>\n",
       "    <tr>\n",
       "      <td>0</td>\n",
       "      <td>54868-5165</td>\n",
       "      <td>Chatterbridge</td>\n",
       "      <td>Spain</td>\n",
       "      <td>Barcelona</td>\n",
       "      <td>784.79€</td>\n",
       "      <td>2016-01-02 00:01:05</td>\n",
       "    </tr>\n",
       "    <tr>\n",
       "      <td>1</td>\n",
       "      <td>60505-2867</td>\n",
       "      <td>Lajo</td>\n",
       "      <td>Greece</td>\n",
       "      <td>Thessaloniki</td>\n",
       "      <td>187.99€</td>\n",
       "      <td>2016-01-02 00:05:26</td>\n",
       "    </tr>\n",
       "    <tr>\n",
       "      <td>2</td>\n",
       "      <td>24385-268</td>\n",
       "      <td>Flipstorm</td>\n",
       "      <td>Greece</td>\n",
       "      <td>Athens</td>\n",
       "      <td>221.73€</td>\n",
       "      <td>2016-01-02 00:18:30</td>\n",
       "    </tr>\n",
       "    <tr>\n",
       "      <td>3</td>\n",
       "      <td>76117-001</td>\n",
       "      <td>Twitterbeat</td>\n",
       "      <td>France</td>\n",
       "      <td>Annecy</td>\n",
       "      <td>1075.82€</td>\n",
       "      <td>2016-01-02 02:32:30</td>\n",
       "    </tr>\n",
       "    <tr>\n",
       "      <td>4</td>\n",
       "      <td>44946-1046</td>\n",
       "      <td>Chatterbridge</td>\n",
       "      <td>Spain</td>\n",
       "      <td>Barcelona</td>\n",
       "      <td>412.55€</td>\n",
       "      <td>2016-01-02 04:51:55</td>\n",
       "    </tr>\n",
       "    <tr>\n",
       "      <td>5</td>\n",
       "      <td>16729-167</td>\n",
       "      <td>Chatterbridge</td>\n",
       "      <td>Spain</td>\n",
       "      <td>Barcelona</td>\n",
       "      <td>359.52€</td>\n",
       "      <td>2016-01-02 07:20:59</td>\n",
       "    </tr>\n",
       "    <tr>\n",
       "      <td>6</td>\n",
       "      <td>52125-444</td>\n",
       "      <td>Voomm</td>\n",
       "      <td>France</td>\n",
       "      <td>Paris</td>\n",
       "      <td>266.62€</td>\n",
       "      <td>2016-01-02 07:40:37</td>\n",
       "    </tr>\n",
       "    <tr>\n",
       "      <td>7</td>\n",
       "      <td>43419-018</td>\n",
       "      <td>Buzzbean</td>\n",
       "      <td>Germany</td>\n",
       "      <td>Düsseldorf</td>\n",
       "      <td>103.45€</td>\n",
       "      <td>2016-01-02 08:57:57</td>\n",
       "    </tr>\n",
       "    <tr>\n",
       "      <td>8</td>\n",
       "      <td>54092-515</td>\n",
       "      <td>Zooxo</td>\n",
       "      <td>United Kingdom</td>\n",
       "      <td>London</td>\n",
       "      <td>£704.94</td>\n",
       "      <td>2016-01-02 09:09:01</td>\n",
       "    </tr>\n",
       "    <tr>\n",
       "      <td>9</td>\n",
       "      <td>24286-1562</td>\n",
       "      <td>Lajo</td>\n",
       "      <td>Greece</td>\n",
       "      <td>Thessaloniki</td>\n",
       "      <td>317.65€</td>\n",
       "      <td>2016-01-02 11:01:32</td>\n",
       "    </tr>\n",
       "  </tbody>\n",
       "</table>\n",
       "</div>"
      ],
      "text/plain": [
       "         part        company         country          city     price  \\\n",
       "0  54868-5165  Chatterbridge           Spain     Barcelona   784.79€   \n",
       "1  60505-2867           Lajo          Greece  Thessaloniki   187.99€   \n",
       "2   24385-268      Flipstorm          Greece        Athens   221.73€   \n",
       "3   76117-001    Twitterbeat          France        Annecy  1075.82€   \n",
       "4  44946-1046  Chatterbridge           Spain     Barcelona   412.55€   \n",
       "5   16729-167  Chatterbridge           Spain     Barcelona   359.52€   \n",
       "6   52125-444          Voomm          France         Paris   266.62€   \n",
       "7   43419-018       Buzzbean         Germany    Düsseldorf   103.45€   \n",
       "8   54092-515          Zooxo  United Kingdom        London   £704.94   \n",
       "9  24286-1562           Lajo          Greece  Thessaloniki   317.65€   \n",
       "\n",
       "                  date  \n",
       "0  2016-01-02 00:01:05  \n",
       "1  2016-01-02 00:05:26  \n",
       "2  2016-01-02 00:18:30  \n",
       "3  2016-01-02 02:32:30  \n",
       "4  2016-01-02 04:51:55  \n",
       "5  2016-01-02 07:20:59  \n",
       "6  2016-01-02 07:40:37  \n",
       "7  2016-01-02 08:57:57  \n",
       "8  2016-01-02 09:09:01  \n",
       "9  2016-01-02 11:01:32  "
      ]
     },
     "execution_count": 3,
     "metadata": {},
     "output_type": "execute_result"
    }
   ],
   "source": [
    "transactions_df.head(10)"
   ]
  },
  {
   "cell_type": "markdown",
   "metadata": {},
   "source": [
    "Obviously, the price attribute should not be an object but a number instead, so let's first extract the currency sign of the data."
   ]
  },
  {
   "cell_type": "code",
   "execution_count": 4,
   "metadata": {},
   "outputs": [],
   "source": [
    "def extract_currency(x):\n",
    "    try:\n",
    "        if x == '-':\n",
    "            return 'NoCurrency'\n",
    "        else:\n",
    "            if not x[-1].isalnum():\n",
    "                return x[-1]\n",
    "            elif not x[0].isalnum():\n",
    "                return x[0]\n",
    "            else:\n",
    "                return 'NoCurrency'\n",
    "    except:\n",
    "        return 'NoCurrency'"
   ]
  },
  {
   "cell_type": "code",
   "execution_count": 5,
   "metadata": {},
   "outputs": [],
   "source": [
    "transactions_df['currency'] = transactions_df.apply(lambda x: extract_currency(x['price']),axis = 1)"
   ]
  },
  {
   "cell_type": "markdown",
   "metadata": {},
   "source": [
    "Now we need to verify all the unique currencies of the transactions to check for potential invalid data:"
   ]
  },
  {
   "cell_type": "code",
   "execution_count": 6,
   "metadata": {
    "scrolled": true
   },
   "outputs": [
    {
     "data": {
      "text/plain": [
       "array(['€', '£', '$', '¥', 'NoCurrency'], dtype=object)"
      ]
     },
     "execution_count": 6,
     "metadata": {},
     "output_type": "execute_result"
    }
   ],
   "source": [
    "currencySign = transactions_df['currency'].unique()\n",
    "currencySign"
   ]
  },
  {
   "cell_type": "markdown",
   "metadata": {},
   "source": [
    "We now have to take a look at the transactions labeled as 'NoCurrency'"
   ]
  },
  {
   "cell_type": "code",
   "execution_count": 7,
   "metadata": {
    "scrolled": false
   },
   "outputs": [
    {
     "data": {
      "text/html": [
       "<div>\n",
       "<style scoped>\n",
       "    .dataframe tbody tr th:only-of-type {\n",
       "        vertical-align: middle;\n",
       "    }\n",
       "\n",
       "    .dataframe tbody tr th {\n",
       "        vertical-align: top;\n",
       "    }\n",
       "\n",
       "    .dataframe thead th {\n",
       "        text-align: right;\n",
       "    }\n",
       "</style>\n",
       "<table border=\"1\" class=\"dataframe\">\n",
       "  <thead>\n",
       "    <tr style=\"text-align: right;\">\n",
       "      <th></th>\n",
       "      <th>part</th>\n",
       "      <th>company</th>\n",
       "      <th>country</th>\n",
       "      <th>city</th>\n",
       "      <th>price</th>\n",
       "      <th>date</th>\n",
       "      <th>currency</th>\n",
       "    </tr>\n",
       "  </thead>\n",
       "  <tbody>\n",
       "    <tr>\n",
       "      <td>2414</td>\n",
       "      <td>61398-0828</td>\n",
       "      <td>Voomm</td>\n",
       "      <td>France</td>\n",
       "      <td>Paris</td>\n",
       "      <td>465.6</td>\n",
       "      <td>2016-04-15 06:51:38</td>\n",
       "      <td>NoCurrency</td>\n",
       "    </tr>\n",
       "    <tr>\n",
       "      <td>2415</td>\n",
       "      <td>36987-1697</td>\n",
       "      <td>Flipstorm</td>\n",
       "      <td>Greece</td>\n",
       "      <td>Athens</td>\n",
       "      <td>1266.68</td>\n",
       "      <td>2016-04-15 08:27:18</td>\n",
       "      <td>NoCurrency</td>\n",
       "    </tr>\n",
       "    <tr>\n",
       "      <td>2526</td>\n",
       "      <td>0603-6134</td>\n",
       "      <td>Buzzbean</td>\n",
       "      <td>Germany</td>\n",
       "      <td>Düsseldorf</td>\n",
       "      <td>829.3</td>\n",
       "      <td>2016-04-21 02:54:36</td>\n",
       "      <td>NoCurrency</td>\n",
       "    </tr>\n",
       "    <tr>\n",
       "      <td>2528</td>\n",
       "      <td>52380-1102</td>\n",
       "      <td>Teklist</td>\n",
       "      <td>NaN</td>\n",
       "      <td>Arnhem</td>\n",
       "      <td>357.78</td>\n",
       "      <td>2016-04-21 04:07:31</td>\n",
       "      <td>NoCurrency</td>\n",
       "    </tr>\n",
       "    <tr>\n",
       "      <td>8683</td>\n",
       "      <td>49349-820</td>\n",
       "      <td>Chatterbridge</td>\n",
       "      <td>Spain</td>\n",
       "      <td>Barcelona</td>\n",
       "      <td>-</td>\n",
       "      <td>2017-03-03 15:24:39</td>\n",
       "      <td>NoCurrency</td>\n",
       "    </tr>\n",
       "    <tr>\n",
       "      <td>8684</td>\n",
       "      <td>10267-2529</td>\n",
       "      <td>Thoughtmix</td>\n",
       "      <td>Portugal</td>\n",
       "      <td>Amadora\\t</td>\n",
       "      <td>-</td>\n",
       "      <td>2017-03-03 18:07:56</td>\n",
       "      <td>NoCurrency</td>\n",
       "    </tr>\n",
       "    <tr>\n",
       "      <td>8685</td>\n",
       "      <td>13537-259</td>\n",
       "      <td>Ntags</td>\n",
       "      <td>Portugal</td>\n",
       "      <td>Lisbon</td>\n",
       "      <td>-</td>\n",
       "      <td>2017-03-03 19:08:54</td>\n",
       "      <td>NoCurrency</td>\n",
       "    </tr>\n",
       "    <tr>\n",
       "      <td>8934</td>\n",
       "      <td>68084-172</td>\n",
       "      <td>Twitterbeat</td>\n",
       "      <td>France</td>\n",
       "      <td>Annecy</td>\n",
       "      <td>void</td>\n",
       "      <td>2017-03-18 01:53:38</td>\n",
       "      <td>NoCurrency</td>\n",
       "    </tr>\n",
       "    <tr>\n",
       "      <td>10328</td>\n",
       "      <td>54868-0823</td>\n",
       "      <td>Chatterbridge</td>\n",
       "      <td>Spain</td>\n",
       "      <td>Barcelona</td>\n",
       "      <td>void</td>\n",
       "      <td>2017-06-02 06:49:09</td>\n",
       "      <td>NoCurrency</td>\n",
       "    </tr>\n",
       "    <tr>\n",
       "      <td>10329</td>\n",
       "      <td>41163-428</td>\n",
       "      <td>Avaveo</td>\n",
       "      <td>France</td>\n",
       "      <td>Nice</td>\n",
       "      <td>-</td>\n",
       "      <td>2017-06-02 07:04:35</td>\n",
       "      <td>NoCurrency</td>\n",
       "    </tr>\n",
       "    <tr>\n",
       "      <td>10330</td>\n",
       "      <td>52959-433</td>\n",
       "      <td>Buzzbean</td>\n",
       "      <td>Germany</td>\n",
       "      <td>Düsseldorf</td>\n",
       "      <td>-</td>\n",
       "      <td>2017-06-02 09:04:46</td>\n",
       "      <td>NoCurrency</td>\n",
       "    </tr>\n",
       "    <tr>\n",
       "      <td>11015</td>\n",
       "      <td>49967-724</td>\n",
       "      <td>Roodel</td>\n",
       "      <td>Portugal</td>\n",
       "      <td>Aranhas</td>\n",
       "      <td>NaN</td>\n",
       "      <td>2017-07-11 08:00:56</td>\n",
       "      <td>NoCurrency</td>\n",
       "    </tr>\n",
       "    <tr>\n",
       "      <td>11155</td>\n",
       "      <td>35356-325</td>\n",
       "      <td>Thoughtmix</td>\n",
       "      <td>Portugal</td>\n",
       "      <td>Amadora\\t</td>\n",
       "      <td>na</td>\n",
       "      <td>2017-07-19 00:55:13</td>\n",
       "      <td>NoCurrency</td>\n",
       "    </tr>\n",
       "    <tr>\n",
       "      <td>11156</td>\n",
       "      <td>24385-268</td>\n",
       "      <td>Twitterbeat</td>\n",
       "      <td>France</td>\n",
       "      <td>Annecy</td>\n",
       "      <td>na</td>\n",
       "      <td>2017-07-19 01:34:53</td>\n",
       "      <td>NoCurrency</td>\n",
       "    </tr>\n",
       "    <tr>\n",
       "      <td>11157</td>\n",
       "      <td>59779-601</td>\n",
       "      <td>Thoughtmix</td>\n",
       "      <td>Portugal</td>\n",
       "      <td>Amadora\\t</td>\n",
       "      <td>na</td>\n",
       "      <td>2017-07-19 01:45:59</td>\n",
       "      <td>NoCurrency</td>\n",
       "    </tr>\n",
       "  </tbody>\n",
       "</table>\n",
       "</div>"
      ],
      "text/plain": [
       "             part        company   country        city    price  \\\n",
       "2414   61398-0828          Voomm    France       Paris    465.6   \n",
       "2415   36987-1697      Flipstorm    Greece      Athens  1266.68   \n",
       "2526    0603-6134       Buzzbean   Germany  Düsseldorf    829.3   \n",
       "2528   52380-1102        Teklist       NaN      Arnhem   357.78   \n",
       "8683    49349-820  Chatterbridge     Spain   Barcelona        -   \n",
       "8684   10267-2529     Thoughtmix  Portugal   Amadora\\t        -   \n",
       "8685    13537-259          Ntags  Portugal      Lisbon        -   \n",
       "8934    68084-172    Twitterbeat    France      Annecy     void   \n",
       "10328  54868-0823  Chatterbridge     Spain   Barcelona     void   \n",
       "10329   41163-428         Avaveo    France        Nice        -   \n",
       "10330   52959-433       Buzzbean   Germany  Düsseldorf        -   \n",
       "11015   49967-724         Roodel  Portugal     Aranhas      NaN   \n",
       "11155   35356-325     Thoughtmix  Portugal   Amadora\\t       na   \n",
       "11156   24385-268    Twitterbeat    France      Annecy       na   \n",
       "11157   59779-601     Thoughtmix  Portugal   Amadora\\t       na   \n",
       "\n",
       "                      date    currency  \n",
       "2414   2016-04-15 06:51:38  NoCurrency  \n",
       "2415   2016-04-15 08:27:18  NoCurrency  \n",
       "2526   2016-04-21 02:54:36  NoCurrency  \n",
       "2528   2016-04-21 04:07:31  NoCurrency  \n",
       "8683   2017-03-03 15:24:39  NoCurrency  \n",
       "8684   2017-03-03 18:07:56  NoCurrency  \n",
       "8685   2017-03-03 19:08:54  NoCurrency  \n",
       "8934   2017-03-18 01:53:38  NoCurrency  \n",
       "10328  2017-06-02 06:49:09  NoCurrency  \n",
       "10329  2017-06-02 07:04:35  NoCurrency  \n",
       "10330  2017-06-02 09:04:46  NoCurrency  \n",
       "11015  2017-07-11 08:00:56  NoCurrency  \n",
       "11155  2017-07-19 00:55:13  NoCurrency  \n",
       "11156  2017-07-19 01:34:53  NoCurrency  \n",
       "11157  2017-07-19 01:45:59  NoCurrency  "
      ]
     },
     "execution_count": 7,
     "metadata": {},
     "output_type": "execute_result"
    }
   ],
   "source": [
    "transactions_df[transactions_df['currency'] == 'NoCurrency']"
   ]
  },
  {
   "cell_type": "markdown",
   "metadata": {},
   "source": [
    "From all the transactions labeled as 'NoCurrency', we would only be interested in the ones with an actual price in the transaction column. However, those with a transaction price does not have a currency labeling the transaction value. Although we could interpret the currency of the transaction by the location, we can't be sure that the transaction was not made in a foreign currency. Therefore, we are going to clean the dataset from these invalid transactions."
   ]
  },
  {
   "cell_type": "code",
   "execution_count": 8,
   "metadata": {},
   "outputs": [],
   "source": [
    "transactions_df = transactions_df[transactions_df.currency != 'NoCurrency']"
   ]
  },
  {
   "cell_type": "markdown",
   "metadata": {},
   "source": [
    "Next, we want to remove the currency sign from the transaction prices and we want to convert the signs into their respective abbreviations for clearance"
   ]
  },
  {
   "cell_type": "code",
   "execution_count": 9,
   "metadata": {},
   "outputs": [],
   "source": [
    "transactions_df['price'] = transactions_df.apply(lambda x: x['price'].replace(x['currency'],''), axis=1)\n",
    "currencyName = {'€': 'EUR',\n",
    "                '£':'GPB',\n",
    "                '$':'USD',\n",
    "                '¥':'YEN'}"
   ]
  },
  {
   "cell_type": "markdown",
   "metadata": {},
   "source": [
    "Now we need to convert the attributes to proper data types, i.e., prices to float numbers, dates to datetime and currencies to strings."
   ]
  },
  {
   "cell_type": "code",
   "execution_count": 10,
   "metadata": {
    "scrolled": true
   },
   "outputs": [],
   "source": [
    "transactions_df['currency'] = transactions_df['currency'].map(currencyName).astype(str)\n",
    "transactions_df['price'] = pd.to_numeric(transactions_df['price'])\n",
    "transactions_df['date'] = pd.to_datetime(transactions_df['date'], errors = 'coerce')\n",
    "transactions_df = transactions_df.dropna(subset=['date'], axis = 0)"
   ]
  },
  {
   "cell_type": "markdown",
   "metadata": {},
   "source": [
    "Looking at the data, we can see that some transactions have the city but not a specific country. In this case, we will map the list of transactions with cities but without countries to a list of cities for each country. Also, we know that the each company is only present in one country and one city so, for the companies without a specific location, we will also map its country and city based on other entries of the same company with a valid country and city designation."
   ]
  },
  {
   "cell_type": "code",
   "execution_count": 11,
   "metadata": {},
   "outputs": [],
   "source": [
    "cityCompany = pd.Series(transactions_df['city'].values, index = transactions_df['company']).to_dict()\n",
    "cityCompany.pop(' -', None)\n",
    "cityCompany.pop(' a', None)\n",
    "cityCompany.pop('aa', None)\n",
    "cityCompany\n",
    "\n",
    "citiesMap = pd.Series(transactions_df['country'].values, index = transactions_df['city']).to_dict()\n",
    "citiesMap.pop(np.nan, None)\n",
    "\n",
    "transactions_df['city'] = transactions_df['company'].map(cityCompany).astype(str)\n",
    "transactions_df['country'] = transactions_df['city'].map(citiesMap).astype(str)"
   ]
  },
  {
   "cell_type": "markdown",
   "metadata": {},
   "source": [
    "From the mapping of the country and companies, we can see that only 3 companies do not have a country specified. So, let's delete these entries from the dataset."
   ]
  },
  {
   "cell_type": "code",
   "execution_count": 16,
   "metadata": {},
   "outputs": [],
   "source": [
    "transactions_df = transactions_df[transactions_df['country'] != 'nan']"
   ]
  },
  {
   "cell_type": "markdown",
   "metadata": {},
   "source": [
    "Removing entries with '\\t'in the city description."
   ]
  },
  {
   "cell_type": "code",
   "execution_count": 23,
   "metadata": {},
   "outputs": [],
   "source": [
    "transactions_df['city'] = transactions_df.apply(lambda x: x['city'].replace('\\t',''), axis=1)"
   ]
  },
  {
   "cell_type": "markdown",
   "metadata": {},
   "source": [
    "Let's verify the unique names for companies to check for mispelling."
   ]
  },
  {
   "cell_type": "code",
   "execution_count": 35,
   "metadata": {},
   "outputs": [
    {
     "data": {
      "text/plain": [
       "array(['Avaveo', 'Brainsphere', 'Bubblemix', 'Buzzbean', 'Chatterbridge',\n",
       "       'Eimbee', 'Flipstorm', 'Gabcube', 'Gabtune', 'Gevee', 'Innojam',\n",
       "       'Kanoodle', 'Laj0', 'Lajo', 'Ntags', 'Ntagz', 'Realpoint',\n",
       "       'Rhycero', 'Riffpath', 'Roodel', 'Shufflebeat', 'Tagtune',\n",
       "       'Teklist', 'Thoughtmix', 'Thoughtmixz', 'Twitterbeat', 'Voomm',\n",
       "       'Wordify', 'Yozio', 'Zoonder', 'Zooxo', 'Zooxo.'], dtype=object)"
      ]
     },
     "execution_count": 35,
     "metadata": {},
     "output_type": "execute_result"
    }
   ],
   "source": [
    "companies_list = transactions_df['company'].unique()\n",
    "companies_list.sort()\n",
    "companies_list"
   ]
  },
  {
   "cell_type": "markdown",
   "metadata": {},
   "source": [
    "The mispelling are:\n",
    "* Laj0 and Lajo\n",
    "* Ntags and Ntagz\n",
    "* Thoughtmix and Thoughtmixz\n",
    "* Zooxo and Zooxo."
   ]
  },
  {
   "cell_type": "code",
   "execution_count": 36,
   "metadata": {},
   "outputs": [
    {
     "data": {
      "text/plain": [
       "array(['Chatterbridge', 'Lajo', 'Flipstorm', 'Twitterbeat', 'Voomm',\n",
       "       'Buzzbean', 'Zooxo', 'Brainsphere', 'Thoughtmix', 'Wordify',\n",
       "       'Teklist', 'Avaveo', 'Ntags', 'Innojam', 'Shufflebeat', 'Zoonder',\n",
       "       'Kanoodle', 'Gabcube', 'Roodel', 'Riffpath', 'Eimbee', 'Yozio',\n",
       "       'Rhycero', 'Realpoint', 'Gabtune', 'Bubblemix', 'Gevee', 'Tagtune'],\n",
       "      dtype=object)"
      ]
     },
     "execution_count": 36,
     "metadata": {},
     "output_type": "execute_result"
    }
   ],
   "source": [
    "transactions_df['company'] = transactions_df.apply(lambda x: x['company'].replace('Laj0','Lajo'), axis=1)\n",
    "transactions_df['company'] = transactions_df.apply(lambda x: x['company'].replace('Ntagz','Ntags'), axis=1)\n",
    "transactions_df['company'] = transactions_df.apply(lambda x: x['company'].replace('Thoughtmixz','Thoughtmix'), axis=1)\n",
    "transactions_df['company'] = transactions_df.apply(lambda x: x['company'].replace('Zooxo.','Zooxo'), axis=1)\n",
    "transactions_df['company'].unique()"
   ]
  },
  {
   "cell_type": "code",
   "execution_count": 37,
   "metadata": {},
   "outputs": [
    {
     "name": "stdout",
     "output_type": "stream",
     "text": [
      "<class 'pandas.core.frame.DataFrame'>\n",
      "Int64Index: 20548 entries, 0 to 20567\n",
      "Data columns (total 7 columns):\n",
      "part        20538 non-null object\n",
      "company     20548 non-null object\n",
      "country     20548 non-null object\n",
      "city        20548 non-null object\n",
      "price       20548 non-null float64\n",
      "date        20548 non-null datetime64[ns]\n",
      "currency    20548 non-null object\n",
      "dtypes: datetime64[ns](1), float64(1), object(5)\n",
      "memory usage: 1.3+ MB\n"
     ]
    }
   ],
   "source": [
    "transactions_df.info()"
   ]
  },
  {
   "cell_type": "code",
   "execution_count": 38,
   "metadata": {},
   "outputs": [
    {
     "data": {
      "text/html": [
       "<div>\n",
       "<style scoped>\n",
       "    .dataframe tbody tr th:only-of-type {\n",
       "        vertical-align: middle;\n",
       "    }\n",
       "\n",
       "    .dataframe tbody tr th {\n",
       "        vertical-align: top;\n",
       "    }\n",
       "\n",
       "    .dataframe thead th {\n",
       "        text-align: right;\n",
       "    }\n",
       "</style>\n",
       "<table border=\"1\" class=\"dataframe\">\n",
       "  <thead>\n",
       "    <tr style=\"text-align: right;\">\n",
       "      <th></th>\n",
       "      <th>part</th>\n",
       "      <th>company</th>\n",
       "      <th>country</th>\n",
       "      <th>city</th>\n",
       "      <th>price</th>\n",
       "      <th>date</th>\n",
       "      <th>currency</th>\n",
       "    </tr>\n",
       "  </thead>\n",
       "  <tbody>\n",
       "    <tr>\n",
       "      <td>0</td>\n",
       "      <td>54868-5165</td>\n",
       "      <td>Chatterbridge</td>\n",
       "      <td>Spain</td>\n",
       "      <td>Barcelona</td>\n",
       "      <td>784.79</td>\n",
       "      <td>2016-01-02 00:01:05</td>\n",
       "      <td>EUR</td>\n",
       "    </tr>\n",
       "    <tr>\n",
       "      <td>1</td>\n",
       "      <td>60505-2867</td>\n",
       "      <td>Lajo</td>\n",
       "      <td>Greece</td>\n",
       "      <td>Thessaloniki</td>\n",
       "      <td>187.99</td>\n",
       "      <td>2016-01-02 00:05:26</td>\n",
       "      <td>EUR</td>\n",
       "    </tr>\n",
       "    <tr>\n",
       "      <td>2</td>\n",
       "      <td>24385-268</td>\n",
       "      <td>Flipstorm</td>\n",
       "      <td>Greece</td>\n",
       "      <td>Athens</td>\n",
       "      <td>221.73</td>\n",
       "      <td>2016-01-02 00:18:30</td>\n",
       "      <td>EUR</td>\n",
       "    </tr>\n",
       "    <tr>\n",
       "      <td>3</td>\n",
       "      <td>76117-001</td>\n",
       "      <td>Twitterbeat</td>\n",
       "      <td>France</td>\n",
       "      <td>Annecy</td>\n",
       "      <td>1075.82</td>\n",
       "      <td>2016-01-02 02:32:30</td>\n",
       "      <td>EUR</td>\n",
       "    </tr>\n",
       "    <tr>\n",
       "      <td>4</td>\n",
       "      <td>44946-1046</td>\n",
       "      <td>Chatterbridge</td>\n",
       "      <td>Spain</td>\n",
       "      <td>Barcelona</td>\n",
       "      <td>412.55</td>\n",
       "      <td>2016-01-02 04:51:55</td>\n",
       "      <td>EUR</td>\n",
       "    </tr>\n",
       "  </tbody>\n",
       "</table>\n",
       "</div>"
      ],
      "text/plain": [
       "         part        company country          city    price  \\\n",
       "0  54868-5165  Chatterbridge   Spain     Barcelona   784.79   \n",
       "1  60505-2867           Lajo  Greece  Thessaloniki   187.99   \n",
       "2   24385-268      Flipstorm  Greece        Athens   221.73   \n",
       "3   76117-001    Twitterbeat  France        Annecy  1075.82   \n",
       "4  44946-1046  Chatterbridge   Spain     Barcelona   412.55   \n",
       "\n",
       "                 date currency  \n",
       "0 2016-01-02 00:01:05      EUR  \n",
       "1 2016-01-02 00:05:26      EUR  \n",
       "2 2016-01-02 00:18:30      EUR  \n",
       "3 2016-01-02 02:32:30      EUR  \n",
       "4 2016-01-02 04:51:55      EUR  "
      ]
     },
     "execution_count": 38,
     "metadata": {},
     "output_type": "execute_result"
    }
   ],
   "source": [
    "transactions_df.head()"
   ]
  },
  {
   "cell_type": "markdown",
   "metadata": {},
   "source": [
    "---\n",
    "## Part 2: Enriching the data"
   ]
  },
  {
   "cell_type": "markdown",
   "metadata": {},
   "source": [
    "A common task for a data scientists is to combine or enrich data from internal sources with data available from external sources. The purpose of this can be either to fix issues with the data or to make it easier to derive insights from the data.\n",
    "\n",
    "In this part you should enrich your data with data from at least one external source. You may look to part 4 for some  inspiration as to what is required. Your solution should be automated, i.e., you can not ask the reader of your notebook to download any data manually. You should argue why and what you expect to achieve by the enrichments you are doing."
   ]
  },
  {
   "cell_type": "markdown",
   "metadata": {},
   "source": [
    "---\n",
    "### Solution"
   ]
  },
  {
   "cell_type": "code",
   "execution_count": null,
   "metadata": {},
   "outputs": [],
   "source": []
  },
  {
   "cell_type": "markdown",
   "metadata": {},
   "source": [
    "---\n",
    "## Part 3: Creating a database\n",
    "Storing data in a relational database has the advantages that it is persistent, fast to query, and it will be easier access for other employees at Weyland-Yutani.\n",
    "\n",
    "In this part you should:\n",
    "- Create a database and table(s) for the data\n",
    "- Insert data into the tables\n",
    "\n",
    "You may use SQLite locally to do this. You should argue why you choose to store your data the way you do. "
   ]
  },
  {
   "cell_type": "markdown",
   "metadata": {},
   "source": [
    "---\n",
    "### Solution"
   ]
  },
  {
   "cell_type": "code",
   "execution_count": null,
   "metadata": {},
   "outputs": [],
   "source": []
  },
  {
   "cell_type": "markdown",
   "metadata": {},
   "source": [
    "---\n",
    "## Part 4: Analyzing the data\n",
    "You are now ready to analyze the data. Your goal is to gain some actionable business insights to present to your boss. \n",
    "\n",
    "In this part, you should ask some questions and try to answer them based on the data. You should write SQL queries to retrieve the data. For each question, you should state why it is relevant and what you expect to find.\n",
    "\n",
    "To get you started, you should prepare answers to the following questions. You should add more questions.\n",
    "#### Who are the most profitable clients?\n",
    "Knowing which clients that generate the most revenue for the company will assist your boss in distributing customer service ressources.\n",
    "\n",
    "#### Are there any clients for which profit is declining?\n",
    "Declining profit from a specific client may indicate that the client is disatisfied with the product. Gaining a new client is often much more work than retaining one. Early warnings about declining profit may help your boss fighting customer churn.\n",
    "\n",
    "\n",
    "Remember, you are taking this to your new boss, so think about how you present the data."
   ]
  },
  {
   "cell_type": "markdown",
   "metadata": {},
   "source": [
    "---\n",
    "### Solution"
   ]
  },
  {
   "cell_type": "code",
   "execution_count": null,
   "metadata": {},
   "outputs": [],
   "source": []
  },
  {
   "cell_type": "markdown",
   "metadata": {},
   "source": [
    "---\n",
    "## Part 5: Performance\n",
    "Your boss is very impressed with what you have achieved in less than two weeks, and he would like to take your idea of storing the customer and sales data in a relational database to production. However, John is concerned that the solution will not scale. His experience is telling him that you will see many occurrences of the following queries.\n",
    "\n",
    "- Show all sales to company X between time $t_1$ and time $t_2$\n",
    "- Show the latest X sales in the database\n",
    "- Show total sales per company per day\n",
    "\n",
    "Show that Johns concern is not justified."
   ]
  },
  {
   "cell_type": "markdown",
   "metadata": {},
   "source": [
    "---\n",
    "### Solution"
   ]
  },
  {
   "cell_type": "code",
   "execution_count": null,
   "metadata": {},
   "outputs": [],
   "source": []
  },
  {
   "cell_type": "markdown",
   "metadata": {},
   "source": [
    "---"
   ]
  }
 ],
 "metadata": {
  "kernelspec": {
   "display_name": "Python 3",
   "language": "python",
   "name": "python3"
  },
  "language_info": {
   "codemirror_mode": {
    "name": "ipython",
    "version": 3
   },
   "file_extension": ".py",
   "mimetype": "text/x-python",
   "name": "python",
   "nbconvert_exporter": "python",
   "pygments_lexer": "ipython3",
   "version": "3.7.3"
  }
 },
 "nbformat": 4,
 "nbformat_minor": 2
}
